{
 "cells": [
  {
   "cell_type": "markdown",
   "id": "82a8e6e8-4df4-4c40-bae1-b34540e1a461",
   "metadata": {},
   "source": [
    "The specific piece of code in csdllib that does this is \n",
    "https://github.com/noaa-ocs-modeling/csdllib/blob/master/csdllib/data/coops.py -- the getData function (see below).\n",
    "\n",
    "A sample URL that it downloads is https://opendap.co-ops.nos.noaa.gov/axis/webservices/waterlevelrawsixmin/plain/response.jsp?stationId=8410140&beginDate=20230302%2018:06&endDate=20230310%2012:00&datum=MSL&unit=0&timeZone=0&Submit=Submit\n",
    "\n",
    "```\n",
    "8410140 1 WL 2023-03-02 18:06  -1.868   0.017   1 0 0 0\n",
    "8410140 1 WL 2023-03-02 18:12  -1.887   0.007   1 0 0 0\n",
    "8410140 1 WL 2023-03-02 18:18  -1.901   0.010   0 0 0 0\n",
    "8410140 1 WL 2023-03-02 18:24  -1.905   0.008   1 0 0 0\n",
    "8410140 1 WL 2023-03-02 18:30  -1.910   0.010   1 0 0 0\n",
    "8410140 1 WL 2023-03-02 18:36  -1.914   0.009   1 0 0 0\n",
    "8410140 1 WL 2023-03-02 18:42  -1.923   0.009   0 0 0 0\n",
    "```\n",
    "Example code:\n",
    "```\n",
    "def getData (stationID,  dateRange, tmpDir=None,\n",
    "             product='waterlevelrawsixmin', datum='MSL', units='meters', verbose=False):\n",
    "    '''\n",
    "    Allows for downloading the observations from NOAA's \n",
    "    Center for Operational Oceanographic Products and Services (COOPS)\n",
    "    via OpenDAP server    http://opendap.co-ops.nos.noaa.gov .\n",
    "    \n",
    "    Args:\n",
    "        stationID (str):              7 character-long CO-OPS station ID.\n",
    "        dateRange (datetime, datetime): start and end dates of retrieval.\n",
    "    '''\n",
    "\n",
    "```"
   ]
  },
  {
   "cell_type": "code",
   "execution_count": null,
   "id": "506c9d28-afe3-4d6c-b471-26cf0a1fce62",
   "metadata": {
    "tags": []
   },
   "outputs": [],
   "source": [
    "from datetime import datetime\n",
    "\n",
    "from searvey import coops"
   ]
  },
  {
   "cell_type": "code",
   "execution_count": null,
   "id": "eb36ab25-ef7f-497c-9e72-abd12857048a",
   "metadata": {
    "tags": []
   },
   "outputs": [],
   "source": [
    "st = coops.COOPS_Station(8410140)\n",
    "ds = st.product(\n",
    "        product='water_level',\n",
    "        start_date=datetime(2023, 3, 2),\n",
    "        end_date=datetime(2023, 3, 10),\n",
    "        interval=None,  # Not applicable for waterlevel\n",
    "        datum='MSL',\n",
    "    )\n",
    "ds"
   ]
  },
  {
   "cell_type": "code",
   "execution_count": null,
   "id": "41891776-0b01-436a-9782-c4dff9ab0e68",
   "metadata": {
    "tags": []
   },
   "outputs": [],
   "source": [
    "df = ds.to_dataframe().drop(columns=['q', 'nws_id', 'x', 'y'])\n",
    "df['f'] = df.f.str.split(',', expand=False)\n",
    "#df[['f1', 'f2', 'f3', 'f4']] = df.f.str.split(',', expand=True)\n",
    "#df = df.drop(columns=['f'])\n",
    "df"
   ]
  },
  {
   "cell_type": "code",
   "execution_count": null,
   "id": "f743ff6e-02e9-4928-9e6e-0b4875a40fcd",
   "metadata": {
    "tags": []
   },
   "outputs": [],
   "source": [
    "#f'{coopdid} 1 WL {yyyy_mm_dd} {hh_mm} {v: <7} {s: <7} {f: <9}'\n",
    "out_string =(\n",
    "    df.reset_index().to_string(\n",
    "        formatters={\n",
    "            'nos_id': '{0: <7} 1 WL'.format,\n",
    "            't': lambda d: d.strftime('%Y-%m-%d %H:%M'),\n",
    "            'f': '{0[0]:} {0[1]:} {0[2]:} {0[3]:}'.format\n",
    "        },\n",
    "        col_space={\n",
    "            'nos_id': 12,\n",
    "            't': 16,\n",
    "            'v': 7,\n",
    "            's': 7,\n",
    "            'f': 9\n",
    "        },\n",
    "        header=False,\n",
    "        index=False\n",
    "    )\n",
    ")\n",
    "\n",
    "print(out_string)"
   ]
  },
  {
   "cell_type": "code",
   "execution_count": null,
   "id": "a3e13830-9c8b-4051-9499-f00303589519",
   "metadata": {},
   "outputs": [],
   "source": []
  }
 ],
 "metadata": {
  "kernelspec": {
   "display_name": "searvey",
   "language": "python",
   "name": "searvey"
  },
  "language_info": {
   "codemirror_mode": {
    "name": "ipython",
    "version": 3
   },
   "file_extension": ".py",
   "mimetype": "text/x-python",
   "name": "python",
   "nbconvert_exporter": "python",
   "pygments_lexer": "ipython3",
   "version": "3.10.9"
  }
 },
 "nbformat": 4,
 "nbformat_minor": 5
}
